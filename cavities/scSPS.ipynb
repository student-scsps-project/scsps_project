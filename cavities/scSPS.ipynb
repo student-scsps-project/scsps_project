{
 "cells": [
  {
   "cell_type": "code",
   "execution_count": 1,
   "metadata": {},
   "outputs": [],
   "source": [
    "import numpy as np\n",
    "import matplotlib.pyplot as plt\n",
    "import accelerator_calculations as ac \n",
    "from accelerator_calculations import pq"
   ]
  },
  {
   "cell_type": "markdown",
   "metadata": {},
   "source": [
    "# scSPS Cavity Calculations"
   ]
  },
  {
   "cell_type": "code",
   "execution_count": 2,
   "metadata": {},
   "outputs": [],
   "source": [
    "proton = ac.particle(1*pq.m_p, 1*pq.e, 1*pq.c)\n",
    "\n",
    "scsps_beam = ac.beam(particle = proton,\n",
    "                     total_energy = 1.3 *pq.TeV)\n",
    "\n",
    "scsps = ac.accelerator(beam = scsps_beam,\n",
    "                       circumference = 6.9 * pq.km,\n",
    "                       harmonic_number = 1,\n",
    "                       max_dipole_field = 6*pq.T)"
   ]
  },
  {
   "cell_type": "markdown",
   "metadata": {},
   "source": [
    "## RF Frequency Decision"
   ]
  },
  {
   "cell_type": "markdown",
   "metadata": {},
   "source": [
    "Revolution frequency and period is"
   ]
  },
  {
   "cell_type": "code",
   "execution_count": 3,
   "metadata": {},
   "outputs": [
    {
     "name": "stdout",
     "output_type": "stream",
     "text": [
      "43.45 kHz\n"
     ]
    }
   ],
   "source": [
    "print('{:.2f~}'.format(scsps.revolution_frequency().to(pq.kHz)))"
   ]
  },
  {
   "cell_type": "code",
   "execution_count": 4,
   "metadata": {},
   "outputs": [
    {
     "name": "stdout",
     "output_type": "stream",
     "text": [
      "23.02 us\n"
     ]
    }
   ],
   "source": [
    "print('{:.2f~}'.format((scsps.revolution_period()).to(pq.us)))"
   ]
  },
  {
   "cell_type": "markdown",
   "metadata": {},
   "source": [
    "at least one gap is required for beam protection systems. These won't change much over the acceleration cycle, split the beam up into two bunch trains and two 3.5$\\mu$s gaps. We need bunch spacings to be 25 ns so the harmonic number could be"
   ]
  },
  {
   "cell_type": "code",
   "execution_count": 5,
   "metadata": {},
   "outputs": [
    {
     "name": "stdout",
     "output_type": "stream",
     "text": [
      "Harmonic Number = 921.0 dimensionless\n",
      "RF Frequency = 40.02 MHz\n",
      "800.0 dimensionless\n"
     ]
    }
   ],
   "source": [
    "bunch_spacing = 25*pq.ns\n",
    "temp_h = np.ceil(((scsps.revolution_period())/(bunch_spacing)).to(pq.dimensionless))\n",
    "print(\"Harmonic Number = {}\".format(temp_h))\n",
    "scsps.update_harmonic_number(temp_h)\n",
    "print(\"RF Frequency = {:.2f~}\".format(scsps.rf_frequency().to(pq.MHz)))\n",
    "\n",
    "number_of_bunches = 20*pq.us / bunch_spacing\n",
    "print(number_of_bunches.to(pq.dimensionless))"
   ]
  },
  {
   "cell_type": "markdown",
   "metadata": {},
   "source": [
    "In this case, were we to use a simple pillbox the required radius would be"
   ]
  },
  {
   "cell_type": "code",
   "execution_count": 6,
   "metadata": {},
   "outputs": [
    {
     "name": "stdout",
     "output_type": "stream",
     "text": [
      "radius = 2.87 m\n"
     ]
    }
   ],
   "source": [
    "cav = ac.cavity(scsps.rf_frequency())\n",
    "print('radius = {:.2f~}'.format(cav.radius_for_tm101()))"
   ]
  },
  {
   "cell_type": "markdown",
   "metadata": {},
   "source": [
    "This is too large, increase the harmonic number by a factor of 12"
   ]
  },
  {
   "cell_type": "code",
   "execution_count": 7,
   "metadata": {},
   "outputs": [
    {
     "name": "stdout",
     "output_type": "stream",
     "text": [
      "Harmonic Number = 11052.0 dimensionless\n",
      "RF Frequency = 480.19 MHz\n",
      "Number of Bunches = 640\n"
     ]
    }
   ],
   "source": [
    "new_h = temp_h*12\n",
    "scsps.update_harmonic_number(new_h)\n",
    "print(\"Harmonic Number = {}\".format(new_h))\n",
    "print(\"RF Frequency = {:.2f~}\".format(scsps.rf_frequency().to(pq.MHz)))\n",
    "\n",
    "number_of_bunches = 16*pq.us / bunch_spacing\n",
    "print(\"Number of Bunches = {:.0f~}\".format(number_of_bunches.to(pq.dimensionless)))"
   ]
  },
  {
   "cell_type": "code",
   "execution_count": 8,
   "metadata": {},
   "outputs": [
    {
     "name": "stdout",
     "output_type": "stream",
     "text": [
      "radius = 0.24 m\n"
     ]
    }
   ],
   "source": [
    "cav = ac.cavity(scsps.rf_frequency())\n",
    "print('radius = {:.2f~}'.format(cav.radius_for_tm101()))"
   ]
  },
  {
   "cell_type": "markdown",
   "metadata": {},
   "source": [
    "This is more reasonable and would allow smaller bunches for potential FCC upgrades."
   ]
  },
  {
   "cell_type": "markdown",
   "metadata": {},
   "source": [
    "## Cavity Bandwidth\n",
    "As the particles are accelerated their revolution frequency, $f_{rev}$ will change,\n",
    "$$\n",
    "f_{rev} = \\frac{C}{\\beta c},\n",
    "$$\n",
    "where $C$ is the circumference of the accelerator. Since $\\beta$ is expected to change, there will be a finite  bandwidth which is set by the injection and extraction energy, the particle type and the harmonic number."
   ]
  },
  {
   "cell_type": "code",
   "execution_count": 9,
   "metadata": {},
   "outputs": [
    {
     "name": "stdout",
     "output_type": "stream",
     "text": [
      "bandwidth = 312.652 kHz\n"
     ]
    }
   ],
   "source": [
    "print('bandwidth = {:.3f~}'.format(scsps.cavity_bandwidth(injection_energy = 26 *pq.GeV,\n",
    "                                                          extraction_energy = 1.3*pq.TeV).to(pq.kHz)))"
   ]
  },
  {
   "cell_type": "markdown",
   "metadata": {},
   "source": [
    "Resonant superconducting cavities have quality factors on the order of $10^{10}$, the bandwidth of such cavities is"
   ]
  },
  {
   "cell_type": "code",
   "execution_count": 10,
   "metadata": {},
   "outputs": [
    {
     "data": {
      "text/html": [
       "0.03201261239451657 hertz"
      ],
      "text/latex": [
       "$0.03201261239451657\\ \\mathrm{hertz}$"
      ],
      "text/plain": [
       "<Quantity(0.03201261239451657, 'hertz')>"
      ]
     },
     "execution_count": 10,
     "metadata": {},
     "output_type": "execute_result"
    }
   ],
   "source": [
    "cav.bandwidth(1.5e10).to(pq.Hz)"
   ]
  },
  {
   "cell_type": "markdown",
   "metadata": {},
   "source": [
    "The superconducting cavity doesn't have the required bandwidth, which will cause a phase error. Assuming that the velocity stays constant over the phase error will be the fractional part of the actual revolution period multiplied by the angular RF frequency."
   ]
  },
  {
   "cell_type": "code",
   "execution_count": 11,
   "metadata": {},
   "outputs": [
    {
     "name": "stdout",
     "output_type": "stream",
     "text": [
      "11059.200663276253 dimensionless\n"
     ]
    }
   ],
   "source": [
    "temp= ((scsps.revolution_period(total_energy=26*pq.GeV) * (cav.frequency())).to(pq.dimensionless))\n",
    "print(temp)"
   ]
  },
  {
   "cell_type": "code",
   "execution_count": 12,
   "metadata": {},
   "outputs": [
    {
     "name": "stdout",
     "output_type": "stream",
     "text": [
      "Phase error = 72.24 deg\n"
     ]
    }
   ],
   "source": [
    "num_periods = divmod(temp, 1)\n",
    "\n",
    "if num_periods[1] > 0.5:\n",
    "    phase_error = (num_periods[0]+1 - temp)*2*np.pi\n",
    "else:\n",
    "    phase_error = num_periods[1]*2*np.pi*pq.radian\n",
    "    \n",
    "print(\"Phase error = {:.2f~}\".format(phase_error.to(pq.degree)))"
   ]
  },
  {
   "cell_type": "code",
   "execution_count": 13,
   "metadata": {},
   "outputs": [
    {
     "name": "stdout",
     "output_type": "stream",
     "text": [
      "Number of turns for 90 degree shift = 1\n"
     ]
    }
   ],
   "source": [
    "print(\"Number of turns for 90 degree shift = {:.0f~}\".format(np.pi*pq.radian/4/phase_error))"
   ]
  },
  {
   "cell_type": "markdown",
   "metadata": {},
   "source": [
    "## Required Cavity Gap Voltage"
   ]
  },
  {
   "cell_type": "markdown",
   "metadata": {},
   "source": [
    "The total acceleration cycle must be completed in around one minute, some additional time could be needed to turn down the current on the SC magnets, so assume $T_{\\textrm{acc}} = 30 \\,\\textrm{s}$. In this time the particle energy will change from 26 GeV to 1.3 TeV, but the revolution period will change only slightly, thus the total number of turns can be estimated from\n",
    "$$\n",
    "N_{\\textrm{turn}} = \\frac{T_{acc}}{T_{rev}}.\n",
    "$$\n",
    "To get a \"worst case scenario\" we can use the revolution period at the injection energy, there will necessarily be fewer turns than this as beta will increase slightly."
   ]
  },
  {
   "cell_type": "code",
   "execution_count": 14,
   "metadata": {},
   "outputs": [],
   "source": [
    "T_acc = 30*pq.s  # acceleration time"
   ]
  },
  {
   "cell_type": "code",
   "execution_count": 15,
   "metadata": {},
   "outputs": [
    {
     "name": "stdout",
     "output_type": "stream",
     "text": [
      "Num Turns = 1e+06\n"
     ]
    }
   ],
   "source": [
    "num_turns = np.ceil((T_acc/scsps.revolution_period(total_energy=26*pq.GeV)).to(pq.dimensionless))\n",
    "print(\"Num Turns = {:.0e~}\".format(num_turns))"
   ]
  },
  {
   "cell_type": "code",
   "execution_count": 16,
   "metadata": {},
   "outputs": [
    {
     "name": "stdout",
     "output_type": "stream",
     "text": [
      "Energy Gain per Turn = 0.98 MeV\n"
     ]
    }
   ],
   "source": [
    "energy_swing = 1.3*pq.TeV - 26*pq.GeV\n",
    "energy_per_turn = (energy_swing/num_turns).to(pq.MeV)\n",
    "\n",
    "print(\"Energy Gain per Turn = {:.2f~}\".format(energy_per_turn))"
   ]
  },
  {
   "cell_type": "code",
   "execution_count": 17,
   "metadata": {},
   "outputs": [
    {
     "data": {
      "text/html": [
       "0.9780461909494939 megavolt"
      ],
      "text/latex": [
       "$0.9780461909494939\\ \\mathrm{megavolt}$"
      ],
      "text/plain": [
       "<Quantity(0.9780461909494939, 'megavolt')>"
      ]
     },
     "execution_count": 17,
     "metadata": {},
     "output_type": "execute_result"
    }
   ],
   "source": [
    "(energy_per_turn/(1*pq.e)).to(pq.MV)"
   ]
  },
  {
   "cell_type": "markdown",
   "metadata": {},
   "source": [
    "If the cavity length is approx 30 cm this gives a gap field of"
   ]
  },
  {
   "cell_type": "code",
   "execution_count": 19,
   "metadata": {},
   "outputs": [
    {
     "data": {
      "text/html": [
       "3.260153969831646 megavolt/meter"
      ],
      "text/latex": [
       "$3.260153969831646\\ \\frac{\\mathrm{megavolt}}{\\mathrm{meter}}$"
      ],
      "text/plain": [
       "<Quantity(3.260153969831646, 'megavolt / meter')>"
      ]
     },
     "execution_count": 19,
     "metadata": {},
     "output_type": "execute_result"
    }
   ],
   "source": [
    "(energy_per_turn/(1*pq.e)/(30*pq.cm)).to(pq.MV/pq.m)"
   ]
  },
  {
   "cell_type": "code",
   "execution_count": null,
   "metadata": {},
   "outputs": [],
   "source": []
  }
 ],
 "metadata": {
  "kernelspec": {
   "display_name": "Python 3",
   "language": "python",
   "name": "python3"
  },
  "language_info": {
   "codemirror_mode": {
    "name": "ipython",
    "version": 3
   },
   "file_extension": ".py",
   "mimetype": "text/x-python",
   "name": "python",
   "nbconvert_exporter": "python",
   "pygments_lexer": "ipython3",
   "version": "3.6.5"
  }
 },
 "nbformat": 4,
 "nbformat_minor": 2
}
